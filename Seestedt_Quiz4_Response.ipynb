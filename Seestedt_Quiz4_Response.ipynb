{
  "nbformat": 4,
  "nbformat_minor": 0,
  "metadata": {
    "colab": {
      "provenance": [],
      "authorship_tag": "ABX9TyPuXgpO33QJP5z/CSiqFuG8",
      "include_colab_link": true
    },
    "kernelspec": {
      "name": "python3",
      "display_name": "Python 3"
    },
    "language_info": {
      "name": "python"
    }
  },
  "cells": [
    {
      "cell_type": "markdown",
      "metadata": {
        "id": "view-in-github",
        "colab_type": "text"
      },
      "source": [
        "<a href=\"https://colab.research.google.com/github/TrevorSeestedt/CSCE580-Fall2024-TrevorSeestedt-Repo/blob/main/Seestedt_Quiz4_Response.ipynb\" target=\"_parent\"><img src=\"https://colab.research.google.com/assets/colab-badge.svg\" alt=\"Open In Colab\"/></a>"
      ]
    },
    {
      "cell_type": "markdown",
      "source": [
        "# Question 1: Analyze data to solve practical problem"
      ],
      "metadata": {
        "id": "VoUxDkKuM9Fe"
      }
    },
    {
      "cell_type": "markdown",
      "source": [
        "a) Show the data statistics – number of features and their domains; number of rows"
      ],
      "metadata": {
        "id": "WUp1nasyNDnH"
      }
    },
    {
      "cell_type": "code",
      "source": [
        "import pandas as pd\n",
        "from google.colab import drive\n",
        "# Loading the data\n",
        "drive.mount('/content/drive')\n",
        "\n",
        "# Loading the csv files\n",
        "salesData = pd.read_csv('/content/drive/MyDrive/Senior Classes/Semester_1/CSCE 580 - Artificial Intelligence/sales_data.csv')\n",
        "customerData = pd.read_csv('/content/drive/MyDrive/Senior Classes/Semester_1/CSCE 580 - Artificial Intelligence/customer_data.csv')"
      ],
      "metadata": {
        "colab": {
          "base_uri": "https://localhost:8080/"
        },
        "id": "YErF0feqNIY0",
        "outputId": "c0ee4feb-c053-40a5-edf6-d2ba12cb5885"
      },
      "execution_count": 6,
      "outputs": [
        {
          "output_type": "stream",
          "name": "stdout",
          "text": [
            "Drive already mounted at /content/drive; to attempt to forcibly remount, call drive.mount(\"/content/drive\", force_remount=True).\n"
          ]
        }
      ]
    },
    {
      "cell_type": "code",
      "source": [
        "# Showing the statistics for the sales data\n",
        "for column in salesData.columns:\n",
        "\n",
        "  if salesData[column].dtype in ['int64', 'float64']:\n",
        "    # values for the column if its numeric\n",
        "    print(f\"\\nStatistics for the column: {column}\")\n",
        "    print(f\"Count: {salesData[column].count()}\")\n",
        "    print(f\"  Min: {salesData[column].min()}\")\n",
        "    print(f\"  Max: {salesData[column].max()}\")\n",
        "    print(f\"  Mean: {sum(salesData[column]) / len(salesData[column]):.2f}\")\n",
        "    print(f\"  Median: {sorted(salesData[column].dropna())[len(salesData[column]) // 2]}\")\n",
        "\n",
        "  else:\n",
        "    # values for the column if it is non-numeric\n",
        "    print(f\"\\nStatistics for the column: {column}\")\n",
        "    print(f\"Unique Value: {salesData[column].nunique()}\")\n",
        "    print(f\"Frequent Values: {salesData[column].mode()[0]}\")\n"
      ],
      "metadata": {
        "colab": {
          "base_uri": "https://localhost:8080/"
        },
        "id": "6cL0LP2RSeVV",
        "outputId": "1ac66fee-745b-4ed7-c3fa-1bea10e6b0cc"
      },
      "execution_count": 13,
      "outputs": [
        {
          "output_type": "stream",
          "name": "stdout",
          "text": [
            "\n",
            "Statistics for the column: invoice_no\n",
            "Unique Value: 99457\n",
            "Frequent Values: I100008\n",
            "\n",
            "Statistics for the column: customer_id\n",
            "Unique Value: 99457\n",
            "Frequent Values: C100004\n",
            "\n",
            "Statistics for the column: category\n",
            "Unique Value: 8\n",
            "Frequent Values: Clothing\n",
            "\n",
            "Statistics for the column: quantity\n",
            "Count: 99457\n",
            "  Min: 1\n",
            "  Max: 5\n",
            "  Mean: 3.00\n",
            "  Median: 3\n",
            "\n",
            "Statistics for the column: price\n",
            "Count: 99457\n",
            "  Min: 5.23\n",
            "  Max: 5250.0\n",
            "  Mean: 689.26\n",
            "  Median: 203.3\n",
            "\n",
            "Statistics for the column: invoice_date\n",
            "Unique Value: 797\n",
            "Frequent Values: 24-11-2021\n",
            "\n",
            "Statistics for the column: shopping_mall\n",
            "Unique Value: 10\n",
            "Frequent Values: Mall of Istanbul\n"
          ]
        }
      ]
    },
    {
      "cell_type": "code",
      "source": [
        "# Showing the statistics for the customer data\n",
        "for column in customerData.columns:\n",
        "    if customerData[column].dtype in ['int64', 'float64']:\n",
        "        # Values for the column if it's numeric\n",
        "        print(f\"\\nStatistics for the column: {column}\")\n",
        "        print(f\"Count: {customerData[column].count()}\")\n",
        "        print(f\"  Min: {customerData[column].min()}\")\n",
        "        print(f\"  Max: {customerData[column].max()}\")\n",
        "        print(f\"  Mean: {sum(customerData[column]) / len(customerData[column]):.2f}\")\n",
        "        print(f\"  Median: {sorted(customerData[column].dropna())[len(customerData[column]) // 2]}\")\n",
        "    else:\n",
        "        # Values for the column if it is non-numeric\n",
        "        print(f\"\\nStatistics for the column: {column}\")\n",
        "        print(f\"Unique Value: {customerData[column].nunique()}\")\n",
        "        print(f\"Frequent Values: {customerData[column].mode()[0]}\")"
      ],
      "metadata": {
        "colab": {
          "base_uri": "https://localhost:8080/"
        },
        "id": "FbZMcN5SZshK",
        "outputId": "dbf9ecbd-d582-4dbb-eb8b-23babe06f547"
      },
      "execution_count": 14,
      "outputs": [
        {
          "output_type": "stream",
          "name": "stdout",
          "text": [
            "\n",
            "Statistics for the column: customer_id\n",
            "Unique Value: 99457\n",
            "Frequent Values: C100004\n",
            "\n",
            "Statistics for the column: gender\n",
            "Unique Value: 2\n",
            "Frequent Values: Female\n",
            "\n",
            "Statistics for the column: age\n",
            "Count: 99338\n",
            "  Min: 18.0\n",
            "  Max: 69.0\n",
            "  Mean: nan\n",
            "  Median: 43.0\n",
            "\n",
            "Statistics for the column: payment_method\n",
            "Unique Value: 3\n",
            "Frequent Values: Cash\n"
          ]
        }
      ]
    },
    {
      "cell_type": "markdown",
      "source": [
        "b) Perform exploratory data analysis"
      ],
      "metadata": {
        "id": "bQ3-xg5jaTn8"
      }
    },
    {
      "cell_type": "markdown",
      "source": [
        "1 - Missing Data"
      ],
      "metadata": {
        "id": "3UUyOZjeyoXm"
      }
    },
    {
      "cell_type": "code",
      "source": [
        "missing_data = {}\n",
        "for column in salesData.columns:\n",
        "    missing_count = sum(1 for value in salesData[column] if pd.isna(value))\n",
        "    missing_data[column] = missing_count\n",
        "\n",
        "\n",
        "print(\"Missing Data per Column:\")\n",
        "for column, count in missing_data.items():\n",
        "    print(f\"{column}: {count} missing values\")"
      ],
      "metadata": {
        "colab": {
          "base_uri": "https://localhost:8080/"
        },
        "id": "1zAqkGTuaX53",
        "outputId": "aeb0ec0c-6015-4cf4-d896-ef428e0f726c"
      },
      "execution_count": 16,
      "outputs": [
        {
          "output_type": "stream",
          "name": "stdout",
          "text": [
            "Missing Data per Column:\n",
            "invoice_no: 0 missing values\n",
            "customer_id: 0 missing values\n",
            "category: 0 missing values\n",
            "quantity: 0 missing values\n",
            "price: 0 missing values\n",
            "invoice_date: 0 missing values\n",
            "shopping_mall: 0 missing values\n"
          ]
        }
      ]
    },
    {
      "cell_type": "markdown",
      "source": [
        "2 - Unique Product Categories and the max items bought\n",
        "\n"
      ],
      "metadata": {
        "id": "G8rHCAaizOax"
      }
    },
    {
      "cell_type": "code",
      "source": [
        "# finding unique product categories\n",
        "product_categories = set(salesData['category'])\n",
        "print(f\"Number of unique categories: {len(product_categories)}\")\n",
        "\n",
        "# max items bought\n",
        "category_max_items = {}\n",
        "for category in product_categories:\n",
        "    max_items_bought = max(row['quantity'] for index, row in salesData.iterrows() if row['category'] == category)\n",
        "    category_max_items[category] = max_items_bought\n",
        "\n",
        "print(\"Max items bought per category:\")\n",
        "for category, maxItems in category_max_items.items():\n",
        "    print(f\"{category}: {maxItems}\")"
      ],
      "metadata": {
        "colab": {
          "base_uri": "https://localhost:8080/"
        },
        "id": "SO2Ps1Oezb20",
        "outputId": "af8c4917-d7c1-4fef-f8cb-3a9b3bc8c9ea"
      },
      "execution_count": 20,
      "outputs": [
        {
          "output_type": "stream",
          "name": "stdout",
          "text": [
            "Number of unique categories: 8\n",
            "Max items bought per category:\n",
            "Food & Beverage: 5\n",
            "Shoes: 5\n",
            "Toys: 5\n",
            "Souvenir: 5\n",
            "Technology: 5\n",
            "Cosmetics: 5\n",
            "Books: 5\n",
            "Clothing: 5\n"
          ]
        }
      ]
    },
    {
      "cell_type": "markdown",
      "source": [
        "3 - Who buys more (Males and Females) and top 3 things bought by gender"
      ],
      "metadata": {
        "id": "R22Hd1ON13Bg"
      }
    },
    {
      "cell_type": "code",
      "source": [
        "customer_gender = {}\n",
        "for index, row in customerData.iterrows():\n",
        "  customer_gender[row['customer_id']] = row['gender']\n",
        "\n",
        "salesData_with_gender = []\n",
        "for index, row in salesData.iterrows():\n",
        "  gender = customer_gender.get(row['customer_id'])\n",
        "  salesData_with_gender.append({**row, 'gender': gender})"
      ],
      "metadata": {
        "id": "2JfTLveq4IkD"
      },
      "execution_count": 27,
      "outputs": []
    },
    {
      "cell_type": "code",
      "source": [
        "# total purchases by gender\n",
        "gender_total = {'Male': 0,\n",
        "                'Female': 0}\n",
        "\n",
        "for row in salesData_with_gender:\n",
        "  if row['gender'] in gender_total:\n",
        "    gender_total[row['gender']] += row['quantity']\n",
        "\n",
        "\n",
        "# print results\n",
        "print(\"Total Purchases by Gender:\")\n",
        "for gender, total in gender_total.items():\n",
        "    print(f\"{gender}: {total}\")"
      ],
      "metadata": {
        "colab": {
          "base_uri": "https://localhost:8080/"
        },
        "id": "d0CV85ct5Dut",
        "outputId": "bdb4430e-c125-4f17-e847-fceecf9524aa"
      },
      "execution_count": 31,
      "outputs": [
        {
          "output_type": "stream",
          "name": "stdout",
          "text": [
            "Total Purchases by Gender:\n",
            "Male: 120053\n",
            "Female: 178659\n"
          ]
        }
      ]
    },
    {
      "cell_type": "code",
      "source": [
        "# top three items bought by each gender\n",
        "genderItems = {'Male': {},\n",
        "                'Female': {}}\n",
        "\n",
        "for row in salesData_with_gender:\n",
        "  gender = row['gender']\n",
        "  category = row['category']\n",
        "  quantity = row['quantity']\n",
        "\n",
        "  if gender in genderItems:\n",
        "    genderItems[gender][category] = genderItems[gender].get(category, 0) + quantity\n",
        "\n",
        "\n",
        "# display\n",
        "for gender, items in genderItems.items():\n",
        "  topThreeItems = sorted(items.items(), key=lambda x: x[1], reverse=True)[:3]\n",
        "  print(f\"{gender}: {topThreeItems}\")"
      ],
      "metadata": {
        "colab": {
          "base_uri": "https://localhost:8080/"
        },
        "id": "JOTXULmq6Qd7",
        "outputId": "d1db4de8-af12-49a7-9b92-1f9d2ae6ed2c"
      },
      "execution_count": 34,
      "outputs": [
        {
          "output_type": "stream",
          "name": "stdout",
          "text": [
            "Male: [('Clothing', 41519), ('Cosmetics', 18204), ('Food & Beverage', 17915)]\n",
            "Female: [('Clothing', 62039), ('Cosmetics', 27261), ('Food & Beverage', 26362)]\n"
          ]
        }
      ]
    },
    {
      "cell_type": "markdown",
      "source": [
        "4 - Most used payment method"
      ],
      "metadata": {
        "id": "ZddDFaRm7dHR"
      }
    },
    {
      "cell_type": "code",
      "source": [
        "paymentCounter = {}\n",
        "for index, row in customerData.iterrows():\n",
        "  paymentMethod = row['payment_method']\n",
        "  paymentCounter[paymentMethod] = paymentCounter.get(paymentMethod, 0) + 1\n",
        "\n",
        "most_used = max(paymentCounter, key = paymentCounter.get)\n",
        "print(f\"Most used payment method: {most_used}\")\n",
        "print(f\"{paymentCounter}\")"
      ],
      "metadata": {
        "colab": {
          "base_uri": "https://localhost:8080/"
        },
        "id": "z5ZpY4jX7cfI",
        "outputId": "3556093e-e6b8-4b24-ac00-8ef694b22397"
      },
      "execution_count": 38,
      "outputs": [
        {
          "output_type": "stream",
          "name": "stdout",
          "text": [
            "Most used payment method: Cash\n",
            "{'Credit Card': 34931, 'Debit Card': 20079, 'Cash': 44447}\n"
          ]
        }
      ]
    },
    {
      "cell_type": "markdown",
      "source": [
        "5 - Month with most purchases"
      ],
      "metadata": {
        "id": "D0SYpItb8saW"
      }
    },
    {
      "cell_type": "code",
      "source": [
        "# Going to have to extract the month\n",
        "monthCounter = {}\n",
        "\n",
        "for index, row in salesData.iterrows():\n",
        "  date = row['invoice_date']\n",
        "  month = date.split('-')[1]\n",
        "  monthCounter[month] = monthCounter.get(month, 0) + 1\n",
        "\n",
        "most_used_month = max(monthCounter, key = monthCounter.get)\n",
        "print(f\"Month with most purchases: {most_used_month}\")\n",
        "print(f\"{monthCounter}\")"
      ],
      "metadata": {
        "colab": {
          "base_uri": "https://localhost:8080/"
        },
        "id": "CLXlU51-8r5a",
        "outputId": "f84ca6c6-a7cd-4fc9-c64f-eb1eeadd8c43"
      },
      "execution_count": 39,
      "outputs": [
        {
          "output_type": "stream",
          "name": "stdout",
          "text": [
            "Month with most purchases: 01\n",
            "{'08': 7635, '12': 7680, '11': 7563, '05': 7697, '10': 7764, '03': 8730, '01': 11608, '07': 7877, '06': 7581, '02': 10482, '04': 7487, '09': 7353}\n"
          ]
        }
      ]
    },
    {
      "cell_type": "markdown",
      "source": [
        "6 - Divide the purchases in bins of $500, get bin with the highest purchase and which is the bin with the most purchases?\n",
        "\n"
      ],
      "metadata": {
        "id": "fBrqQF6u9dhs"
      }
    },
    {
      "cell_type": "code",
      "source": [
        "# defining bins\n",
        "\n",
        "bins = [0, 500, 1000, 1500, 2000, float('inf')]\n",
        "labels = ['0-500', '500-1000', '1000-1500', '1500-2000', '2000+']\n",
        "\n",
        "binCount = {label: 0 for label in labels}\n",
        "binTotal = {label: 0 for label in labels}\n",
        "\n",
        "# assigning the purchases to the bins\n",
        "for index, row in salesData.iterrows():\n",
        "  price = row['price']\n",
        "  for i in range(len(bins) - 1):\n",
        "    if bins[i] < price <= bins[i+1]:\n",
        "      binCount[labels[i]] += 1\n",
        "      binTotal[labels[i]] += price\n",
        "      break\n",
        "\n",
        "# bin with most amount of purchases\n",
        "most_purchases_bin = max(binCount, key=binCount.get)\n",
        "print(f\"Bin with the most purchases: {most_purchases_bin}\")\n",
        "\n",
        "# bin with the highest total purchase\n",
        "highest_total_bin = max(binTotal, key=binTotal.get)\n",
        "print(f\"Bin with the highest total purchase: {highest_total_bin}\")\n",
        "\n",
        "print(f\"{binCount}\")\n",
        "print(f\"{binTotal}\")\n"
      ],
      "metadata": {
        "colab": {
          "base_uri": "https://localhost:8080/"
        },
        "id": "klnupYGp9qWc",
        "outputId": "3e9d814f-0a3a-43e5-f1db-7048006c91ca"
      },
      "execution_count": 43,
      "outputs": [
        {
          "output_type": "stream",
          "name": "stdout",
          "text": [
            "Bin with the most purchases: 0-500\n",
            "Bin with the highest total purchase: 2000+\n",
            "{'0-500': 56781, '500-1000': 15801, '1000-1500': 9879, '1500-2000': 8950, '2000+': 8046}\n",
            "{'0-500': 5621141.660000966, '500-1000': 11555800.160001934, '1000-1500': 11709936.980000887, '1500-2000': 14031801.100001296, '2000+': 25632686.0100002}\n"
          ]
        }
      ]
    },
    {
      "cell_type": "code",
      "source": [
        "highest_month= [row for index, row in salesData.iterrows() if int(row['invoice_date'].split('-')[1]) == most_used_month]\n",
        "\n",
        "# Re-bin data\n",
        "highest_month_bin_counts = {label: 0 for label in labels}\n",
        "for row in highest_month:\n",
        "    amount = row['price']\n",
        "    for i in range(len(bins) - 1):\n",
        "        if bins[i] < amount <= bins[i + 1]:\n",
        "            highest_month_bin_counts[labels[i]] += 1\n",
        "            break\n",
        "\n",
        "most_purchases_bin_in_highest_month = max(highest_month_bin_counts, key=highest_month_bin_counts.get)\n",
        "print(f\"Bin with most purchases in highest purchased month: {most_purchases_bin_in_highest_month}\")"
      ],
      "metadata": {
        "colab": {
          "base_uri": "https://localhost:8080/"
        },
        "id": "Up_PgduK_hzv",
        "outputId": "ee052929-e4e4-4359-cf0a-fc9e8857bde3"
      },
      "execution_count": 44,
      "outputs": [
        {
          "output_type": "stream",
          "name": "stdout",
          "text": [
            "Bin with most purchases in highest purchased month: 0-500\n"
          ]
        }
      ]
    }
  ]
}