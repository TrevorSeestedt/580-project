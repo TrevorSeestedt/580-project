{
  "nbformat": 4,
  "nbformat_minor": 0,
  "metadata": {
    "colab": {
      "provenance": [],
      "include_colab_link": true
    },
    "kernelspec": {
      "name": "python3",
      "display_name": "Python 3"
    },
    "language_info": {
      "name": "python"
    }
  },
  "cells": [
    {
      "cell_type": "markdown",
      "metadata": {
        "id": "view-in-github",
        "colab_type": "text"
      },
      "source": [
        "<a href=\"https://colab.research.google.com/github/TrevorSeestedt/CSCE580-Fall2024-TrevorSeestedt-Repo/blob/main/Quiz1_Response_Q4.ipynb\" target=\"_parent\"><img src=\"https://colab.research.google.com/assets/colab-badge.svg\" alt=\"Open In Colab\"/></a>"
      ]
    },
    {
      "cell_type": "markdown",
      "source": [
        "# Question 4: Data Analysis for Social Impact\n",
        "The following is a report of real student driving data in 2023 and 2024."
      ],
      "metadata": {
        "id": "_59vPUYYqXpO"
      }
    },
    {
      "cell_type": "code",
      "source": [
        "from google.colab import drive\n",
        "drive.mount('/content/drive')"
      ],
      "metadata": {
        "colab": {
          "base_uri": "https://localhost:8080/"
        },
        "id": "0IGIZHnbqXuo",
        "outputId": "208b938e-711c-4a7b-b1fc-c2ad035b3dfd"
      },
      "execution_count": null,
      "outputs": [
        {
          "output_type": "stream",
          "name": "stdout",
          "text": [
            "Drive already mounted at /content/drive; to attempt to forcibly remount, call drive.mount(\"/content/drive\", force_remount=True).\n"
          ]
        }
      ]
    },
    {
      "cell_type": "code",
      "source": [
        "import pandas as pd\n",
        "df = pd.read_csv('/content/drive/MyDrive/DriverTraining-ForInClassLearning-2024.csv')\n",
        "\n",
        "missing_percentage = (df.isnull().sum() / len(df)) * 100\n",
        "print(missing_percentage)"
      ],
      "metadata": {
        "colab": {
          "base_uri": "https://localhost:8080/"
        },
        "id": "zAeGIVr-rLpo",
        "outputId": "8e031059-509a-434c-ece8-2eef2ad118db"
      },
      "execution_count": null,
      "outputs": [
        {
          "output_type": "stream",
          "name": "stdout",
          "text": [
            "class_date    0.000000\n",
            "city          0.035503\n",
            "state         0.035503\n",
            "zip_code      0.035503\n",
            "dob           0.786982\n",
            "gender        1.337278\n",
            "dtype: float64\n"
          ]
        }
      ]
    },
    {
      "cell_type": "markdown",
      "source": [
        "a. Data Issues\n",
        "1. As it is seen, the amount of data missing per column is as follows: class_date has 0% missing, city has .0356% missing, state has .0356% missing, zip code has .0356% missing, date of birth ahs .787% missing, and gender has 1.337% missing.\n",
        "2. There are a few data issues that have occurred in the given data set. The first is the missing values, as there is already a significant amount of data within the set, removing the rows of the missing will not significantly impact the set. The next issue is the formatting of the data, not all cities have been correctly input (some are all lower/upper cased) which may cause confusion as letters can look similar like 'I'(upper case 'i') and 'l'(lower case 'L') and the formatting of dates for the class and birth are the same. If the formatting is changed for the dates then there will be less probability of error as it will stick out if input wrong."
      ],
      "metadata": {
        "id": "KJQcO3xRrvEW"
      }
    },
    {
      "cell_type": "code",
      "source": [
        "# create IDs\n",
        "df['id'] = range(1, len(df) + 1)"
      ],
      "metadata": {
        "id": "dAnB-MJfxMsw"
      },
      "execution_count": null,
      "outputs": []
    },
    {
      "cell_type": "code",
      "source": [
        "# Removal of rows with missing data\n",
        "df.dropna(inplace=True)"
      ],
      "metadata": {
        "id": "5llgUx0AxXwJ"
      },
      "execution_count": null,
      "outputs": []
    },
    {
      "cell_type": "code",
      "source": [
        "# Date format change for class and dob\n",
        "df['class_date'] = pd.to_datetime(df['class_date'])"
      ],
      "metadata": {
        "id": "-FpXdUC9xdJr"
      },
      "execution_count": null,
      "outputs": []
    },
    {
      "cell_type": "code",
      "source": [
        "# Convert 'dob' to datetime, replacing invalid dates with NaT\n",
        "df['dob'] = pd.to_datetime(df['dob'], errors='coerce')\n",
        "\n",
        "# Remove rows with NaT values in 'dob'\n",
        "df.dropna(subset=['dob'], inplace=True)\n",
        "\n",
        "# Now you can apply strftime\n",
        "df['dob'] = df['dob'].dt.strftime('%B %d, %Y')"
      ],
      "metadata": {
        "colab": {
          "base_uri": "https://localhost:8080/"
        },
        "id": "9qe_2cpj1M3j",
        "outputId": "8b64eadb-5c1c-421b-d5ee-d0bb9e6117c6"
      },
      "execution_count": null,
      "outputs": [
        {
          "output_type": "stream",
          "name": "stderr",
          "text": [
            "<ipython-input-26-d05ea3a6748f>:2: UserWarning: Could not infer format, so each element will be parsed individually, falling back to `dateutil`. To ensure parsing is consistent and as-expected, please specify a format.\n",
            "  df['dob'] = pd.to_datetime(df['dob'], errors='coerce')\n"
          ]
        }
      ]
    },
    {
      "cell_type": "code",
      "source": [
        "# Capitalize cities\n",
        "df['city'] = df['city'].str.title()"
      ],
      "metadata": {
        "id": "L31VfBUWxwkh"
      },
      "execution_count": null,
      "outputs": []
    },
    {
      "cell_type": "code",
      "source": [
        "df.head(15)"
      ],
      "metadata": {
        "colab": {
          "base_uri": "https://localhost:8080/",
          "height": 520
        },
        "id": "3obuzGfzyLO4",
        "outputId": "1d70ff14-cf46-45f8-ee95-13d9e13dc853"
      },
      "execution_count": null,
      "outputs": [
        {
          "output_type": "execute_result",
          "data": {
            "text/plain": [
              "   class_date            city           state    zip_code                 dob  \\\n",
              "0  2024-08-17        Richburg  South Carolina       29729   November 30, 2007   \n",
              "1  2024-08-10        Bluffton  South Carolina  29910-7957    October 16, 2007   \n",
              "2  2024-08-14         Hampton  South Carolina       29924       July 03, 2008   \n",
              "3  2024-08-09        Columbia  South Carolina       29210    October 10, 2006   \n",
              "4  2024-08-17            Irmo  South Carolina       29063   December 23, 2006   \n",
              "5  2024-08-10       Rock Hill  South Carolina       29730  September 03, 2008   \n",
              "6  2024-08-10  Mount Pleasant  South Carolina       29466   February 14, 2008   \n",
              "7  2024-08-15      Greenville  South Carolina       29607    January 18, 2007   \n",
              "8  2024-08-10         Clemson  South Carolina       29631  September 30, 2008   \n",
              "9  2024-08-15      Blyethwood  South Carolina       29016   December 04, 2005   \n",
              "10 2024-08-14          Easley  South Carolina       29642       June 03, 2008   \n",
              "11 2024-08-15         Awendaw  South Carolina       29429     August 08, 2008   \n",
              "12 2024-08-15  Travelers Rest  South Carolina       29690   December 04, 2007   \n",
              "13 2024-08-15       Rock Hill  South Carolina       29732       June 03, 2007   \n",
              "14 2024-08-15            Irmo  South Carolina       29063    January 16, 2007   \n",
              "\n",
              "    gender  id  \n",
              "0     Male   1  \n",
              "1     Male   2  \n",
              "2   Female   3  \n",
              "3   Female   4  \n",
              "4   Female   5  \n",
              "5   Female   6  \n",
              "6   Female   7  \n",
              "7   Female   8  \n",
              "8   Female   9  \n",
              "9     Male  10  \n",
              "10  Female  11  \n",
              "11  Female  12  \n",
              "12  Female  13  \n",
              "13    Male  14  \n",
              "14  Female  15  "
            ],
            "text/html": [
              "\n",
              "  <div id=\"df-e68a4596-b0b1-4790-b11a-4a15c2e8dd13\" class=\"colab-df-container\">\n",
              "    <div>\n",
              "<style scoped>\n",
              "    .dataframe tbody tr th:only-of-type {\n",
              "        vertical-align: middle;\n",
              "    }\n",
              "\n",
              "    .dataframe tbody tr th {\n",
              "        vertical-align: top;\n",
              "    }\n",
              "\n",
              "    .dataframe thead th {\n",
              "        text-align: right;\n",
              "    }\n",
              "</style>\n",
              "<table border=\"1\" class=\"dataframe\">\n",
              "  <thead>\n",
              "    <tr style=\"text-align: right;\">\n",
              "      <th></th>\n",
              "      <th>class_date</th>\n",
              "      <th>city</th>\n",
              "      <th>state</th>\n",
              "      <th>zip_code</th>\n",
              "      <th>dob</th>\n",
              "      <th>gender</th>\n",
              "      <th>id</th>\n",
              "    </tr>\n",
              "  </thead>\n",
              "  <tbody>\n",
              "    <tr>\n",
              "      <th>0</th>\n",
              "      <td>2024-08-17</td>\n",
              "      <td>Richburg</td>\n",
              "      <td>South Carolina</td>\n",
              "      <td>29729</td>\n",
              "      <td>November 30, 2007</td>\n",
              "      <td>Male</td>\n",
              "      <td>1</td>\n",
              "    </tr>\n",
              "    <tr>\n",
              "      <th>1</th>\n",
              "      <td>2024-08-10</td>\n",
              "      <td>Bluffton</td>\n",
              "      <td>South Carolina</td>\n",
              "      <td>29910-7957</td>\n",
              "      <td>October 16, 2007</td>\n",
              "      <td>Male</td>\n",
              "      <td>2</td>\n",
              "    </tr>\n",
              "    <tr>\n",
              "      <th>2</th>\n",
              "      <td>2024-08-14</td>\n",
              "      <td>Hampton</td>\n",
              "      <td>South Carolina</td>\n",
              "      <td>29924</td>\n",
              "      <td>July 03, 2008</td>\n",
              "      <td>Female</td>\n",
              "      <td>3</td>\n",
              "    </tr>\n",
              "    <tr>\n",
              "      <th>3</th>\n",
              "      <td>2024-08-09</td>\n",
              "      <td>Columbia</td>\n",
              "      <td>South Carolina</td>\n",
              "      <td>29210</td>\n",
              "      <td>October 10, 2006</td>\n",
              "      <td>Female</td>\n",
              "      <td>4</td>\n",
              "    </tr>\n",
              "    <tr>\n",
              "      <th>4</th>\n",
              "      <td>2024-08-17</td>\n",
              "      <td>Irmo</td>\n",
              "      <td>South Carolina</td>\n",
              "      <td>29063</td>\n",
              "      <td>December 23, 2006</td>\n",
              "      <td>Female</td>\n",
              "      <td>5</td>\n",
              "    </tr>\n",
              "    <tr>\n",
              "      <th>5</th>\n",
              "      <td>2024-08-10</td>\n",
              "      <td>Rock Hill</td>\n",
              "      <td>South Carolina</td>\n",
              "      <td>29730</td>\n",
              "      <td>September 03, 2008</td>\n",
              "      <td>Female</td>\n",
              "      <td>6</td>\n",
              "    </tr>\n",
              "    <tr>\n",
              "      <th>6</th>\n",
              "      <td>2024-08-10</td>\n",
              "      <td>Mount Pleasant</td>\n",
              "      <td>South Carolina</td>\n",
              "      <td>29466</td>\n",
              "      <td>February 14, 2008</td>\n",
              "      <td>Female</td>\n",
              "      <td>7</td>\n",
              "    </tr>\n",
              "    <tr>\n",
              "      <th>7</th>\n",
              "      <td>2024-08-15</td>\n",
              "      <td>Greenville</td>\n",
              "      <td>South Carolina</td>\n",
              "      <td>29607</td>\n",
              "      <td>January 18, 2007</td>\n",
              "      <td>Female</td>\n",
              "      <td>8</td>\n",
              "    </tr>\n",
              "    <tr>\n",
              "      <th>8</th>\n",
              "      <td>2024-08-10</td>\n",
              "      <td>Clemson</td>\n",
              "      <td>South Carolina</td>\n",
              "      <td>29631</td>\n",
              "      <td>September 30, 2008</td>\n",
              "      <td>Female</td>\n",
              "      <td>9</td>\n",
              "    </tr>\n",
              "    <tr>\n",
              "      <th>9</th>\n",
              "      <td>2024-08-15</td>\n",
              "      <td>Blyethwood</td>\n",
              "      <td>South Carolina</td>\n",
              "      <td>29016</td>\n",
              "      <td>December 04, 2005</td>\n",
              "      <td>Male</td>\n",
              "      <td>10</td>\n",
              "    </tr>\n",
              "    <tr>\n",
              "      <th>10</th>\n",
              "      <td>2024-08-14</td>\n",
              "      <td>Easley</td>\n",
              "      <td>South Carolina</td>\n",
              "      <td>29642</td>\n",
              "      <td>June 03, 2008</td>\n",
              "      <td>Female</td>\n",
              "      <td>11</td>\n",
              "    </tr>\n",
              "    <tr>\n",
              "      <th>11</th>\n",
              "      <td>2024-08-15</td>\n",
              "      <td>Awendaw</td>\n",
              "      <td>South Carolina</td>\n",
              "      <td>29429</td>\n",
              "      <td>August 08, 2008</td>\n",
              "      <td>Female</td>\n",
              "      <td>12</td>\n",
              "    </tr>\n",
              "    <tr>\n",
              "      <th>12</th>\n",
              "      <td>2024-08-15</td>\n",
              "      <td>Travelers Rest</td>\n",
              "      <td>South Carolina</td>\n",
              "      <td>29690</td>\n",
              "      <td>December 04, 2007</td>\n",
              "      <td>Female</td>\n",
              "      <td>13</td>\n",
              "    </tr>\n",
              "    <tr>\n",
              "      <th>13</th>\n",
              "      <td>2024-08-15</td>\n",
              "      <td>Rock Hill</td>\n",
              "      <td>South Carolina</td>\n",
              "      <td>29732</td>\n",
              "      <td>June 03, 2007</td>\n",
              "      <td>Male</td>\n",
              "      <td>14</td>\n",
              "    </tr>\n",
              "    <tr>\n",
              "      <th>14</th>\n",
              "      <td>2024-08-15</td>\n",
              "      <td>Irmo</td>\n",
              "      <td>South Carolina</td>\n",
              "      <td>29063</td>\n",
              "      <td>January 16, 2007</td>\n",
              "      <td>Female</td>\n",
              "      <td>15</td>\n",
              "    </tr>\n",
              "  </tbody>\n",
              "</table>\n",
              "</div>\n",
              "    <div class=\"colab-df-buttons\">\n",
              "\n",
              "  <div class=\"colab-df-container\">\n",
              "    <button class=\"colab-df-convert\" onclick=\"convertToInteractive('df-e68a4596-b0b1-4790-b11a-4a15c2e8dd13')\"\n",
              "            title=\"Convert this dataframe to an interactive table.\"\n",
              "            style=\"display:none;\">\n",
              "\n",
              "  <svg xmlns=\"http://www.w3.org/2000/svg\" height=\"24px\" viewBox=\"0 -960 960 960\">\n",
              "    <path d=\"M120-120v-720h720v720H120Zm60-500h600v-160H180v160Zm220 220h160v-160H400v160Zm0 220h160v-160H400v160ZM180-400h160v-160H180v160Zm440 0h160v-160H620v160ZM180-180h160v-160H180v160Zm440 0h160v-160H620v160Z\"/>\n",
              "  </svg>\n",
              "    </button>\n",
              "\n",
              "  <style>\n",
              "    .colab-df-container {\n",
              "      display:flex;\n",
              "      gap: 12px;\n",
              "    }\n",
              "\n",
              "    .colab-df-convert {\n",
              "      background-color: #E8F0FE;\n",
              "      border: none;\n",
              "      border-radius: 50%;\n",
              "      cursor: pointer;\n",
              "      display: none;\n",
              "      fill: #1967D2;\n",
              "      height: 32px;\n",
              "      padding: 0 0 0 0;\n",
              "      width: 32px;\n",
              "    }\n",
              "\n",
              "    .colab-df-convert:hover {\n",
              "      background-color: #E2EBFA;\n",
              "      box-shadow: 0px 1px 2px rgba(60, 64, 67, 0.3), 0px 1px 3px 1px rgba(60, 64, 67, 0.15);\n",
              "      fill: #174EA6;\n",
              "    }\n",
              "\n",
              "    .colab-df-buttons div {\n",
              "      margin-bottom: 4px;\n",
              "    }\n",
              "\n",
              "    [theme=dark] .colab-df-convert {\n",
              "      background-color: #3B4455;\n",
              "      fill: #D2E3FC;\n",
              "    }\n",
              "\n",
              "    [theme=dark] .colab-df-convert:hover {\n",
              "      background-color: #434B5C;\n",
              "      box-shadow: 0px 1px 3px 1px rgba(0, 0, 0, 0.15);\n",
              "      filter: drop-shadow(0px 1px 2px rgba(0, 0, 0, 0.3));\n",
              "      fill: #FFFFFF;\n",
              "    }\n",
              "  </style>\n",
              "\n",
              "    <script>\n",
              "      const buttonEl =\n",
              "        document.querySelector('#df-e68a4596-b0b1-4790-b11a-4a15c2e8dd13 button.colab-df-convert');\n",
              "      buttonEl.style.display =\n",
              "        google.colab.kernel.accessAllowed ? 'block' : 'none';\n",
              "\n",
              "      async function convertToInteractive(key) {\n",
              "        const element = document.querySelector('#df-e68a4596-b0b1-4790-b11a-4a15c2e8dd13');\n",
              "        const dataTable =\n",
              "          await google.colab.kernel.invokeFunction('convertToInteractive',\n",
              "                                                    [key], {});\n",
              "        if (!dataTable) return;\n",
              "\n",
              "        const docLinkHtml = 'Like what you see? Visit the ' +\n",
              "          '<a target=\"_blank\" href=https://colab.research.google.com/notebooks/data_table.ipynb>data table notebook</a>'\n",
              "          + ' to learn more about interactive tables.';\n",
              "        element.innerHTML = '';\n",
              "        dataTable['output_type'] = 'display_data';\n",
              "        await google.colab.output.renderOutput(dataTable, element);\n",
              "        const docLink = document.createElement('div');\n",
              "        docLink.innerHTML = docLinkHtml;\n",
              "        element.appendChild(docLink);\n",
              "      }\n",
              "    </script>\n",
              "  </div>\n",
              "\n",
              "\n",
              "<div id=\"df-b702a800-c3ab-4134-9e54-9c0f0f31edd7\">\n",
              "  <button class=\"colab-df-quickchart\" onclick=\"quickchart('df-b702a800-c3ab-4134-9e54-9c0f0f31edd7')\"\n",
              "            title=\"Suggest charts\"\n",
              "            style=\"display:none;\">\n",
              "\n",
              "<svg xmlns=\"http://www.w3.org/2000/svg\" height=\"24px\"viewBox=\"0 0 24 24\"\n",
              "     width=\"24px\">\n",
              "    <g>\n",
              "        <path d=\"M19 3H5c-1.1 0-2 .9-2 2v14c0 1.1.9 2 2 2h14c1.1 0 2-.9 2-2V5c0-1.1-.9-2-2-2zM9 17H7v-7h2v7zm4 0h-2V7h2v10zm4 0h-2v-4h2v4z\"/>\n",
              "    </g>\n",
              "</svg>\n",
              "  </button>\n",
              "\n",
              "<style>\n",
              "  .colab-df-quickchart {\n",
              "      --bg-color: #E8F0FE;\n",
              "      --fill-color: #1967D2;\n",
              "      --hover-bg-color: #E2EBFA;\n",
              "      --hover-fill-color: #174EA6;\n",
              "      --disabled-fill-color: #AAA;\n",
              "      --disabled-bg-color: #DDD;\n",
              "  }\n",
              "\n",
              "  [theme=dark] .colab-df-quickchart {\n",
              "      --bg-color: #3B4455;\n",
              "      --fill-color: #D2E3FC;\n",
              "      --hover-bg-color: #434B5C;\n",
              "      --hover-fill-color: #FFFFFF;\n",
              "      --disabled-bg-color: #3B4455;\n",
              "      --disabled-fill-color: #666;\n",
              "  }\n",
              "\n",
              "  .colab-df-quickchart {\n",
              "    background-color: var(--bg-color);\n",
              "    border: none;\n",
              "    border-radius: 50%;\n",
              "    cursor: pointer;\n",
              "    display: none;\n",
              "    fill: var(--fill-color);\n",
              "    height: 32px;\n",
              "    padding: 0;\n",
              "    width: 32px;\n",
              "  }\n",
              "\n",
              "  .colab-df-quickchart:hover {\n",
              "    background-color: var(--hover-bg-color);\n",
              "    box-shadow: 0 1px 2px rgba(60, 64, 67, 0.3), 0 1px 3px 1px rgba(60, 64, 67, 0.15);\n",
              "    fill: var(--button-hover-fill-color);\n",
              "  }\n",
              "\n",
              "  .colab-df-quickchart-complete:disabled,\n",
              "  .colab-df-quickchart-complete:disabled:hover {\n",
              "    background-color: var(--disabled-bg-color);\n",
              "    fill: var(--disabled-fill-color);\n",
              "    box-shadow: none;\n",
              "  }\n",
              "\n",
              "  .colab-df-spinner {\n",
              "    border: 2px solid var(--fill-color);\n",
              "    border-color: transparent;\n",
              "    border-bottom-color: var(--fill-color);\n",
              "    animation:\n",
              "      spin 1s steps(1) infinite;\n",
              "  }\n",
              "\n",
              "  @keyframes spin {\n",
              "    0% {\n",
              "      border-color: transparent;\n",
              "      border-bottom-color: var(--fill-color);\n",
              "      border-left-color: var(--fill-color);\n",
              "    }\n",
              "    20% {\n",
              "      border-color: transparent;\n",
              "      border-left-color: var(--fill-color);\n",
              "      border-top-color: var(--fill-color);\n",
              "    }\n",
              "    30% {\n",
              "      border-color: transparent;\n",
              "      border-left-color: var(--fill-color);\n",
              "      border-top-color: var(--fill-color);\n",
              "      border-right-color: var(--fill-color);\n",
              "    }\n",
              "    40% {\n",
              "      border-color: transparent;\n",
              "      border-right-color: var(--fill-color);\n",
              "      border-top-color: var(--fill-color);\n",
              "    }\n",
              "    60% {\n",
              "      border-color: transparent;\n",
              "      border-right-color: var(--fill-color);\n",
              "    }\n",
              "    80% {\n",
              "      border-color: transparent;\n",
              "      border-right-color: var(--fill-color);\n",
              "      border-bottom-color: var(--fill-color);\n",
              "    }\n",
              "    90% {\n",
              "      border-color: transparent;\n",
              "      border-bottom-color: var(--fill-color);\n",
              "    }\n",
              "  }\n",
              "</style>\n",
              "\n",
              "  <script>\n",
              "    async function quickchart(key) {\n",
              "      const quickchartButtonEl =\n",
              "        document.querySelector('#' + key + ' button');\n",
              "      quickchartButtonEl.disabled = true;  // To prevent multiple clicks.\n",
              "      quickchartButtonEl.classList.add('colab-df-spinner');\n",
              "      try {\n",
              "        const charts = await google.colab.kernel.invokeFunction(\n",
              "            'suggestCharts', [key], {});\n",
              "      } catch (error) {\n",
              "        console.error('Error during call to suggestCharts:', error);\n",
              "      }\n",
              "      quickchartButtonEl.classList.remove('colab-df-spinner');\n",
              "      quickchartButtonEl.classList.add('colab-df-quickchart-complete');\n",
              "    }\n",
              "    (() => {\n",
              "      let quickchartButtonEl =\n",
              "        document.querySelector('#df-b702a800-c3ab-4134-9e54-9c0f0f31edd7 button');\n",
              "      quickchartButtonEl.style.display =\n",
              "        google.colab.kernel.accessAllowed ? 'block' : 'none';\n",
              "    })();\n",
              "  </script>\n",
              "</div>\n",
              "\n",
              "    </div>\n",
              "  </div>\n"
            ],
            "application/vnd.google.colaboratory.intrinsic+json": {
              "type": "dataframe",
              "variable_name": "df",
              "summary": "{\n  \"name\": \"df\",\n  \"rows\": 16554,\n  \"fields\": [\n    {\n      \"column\": \"class_date\",\n      \"properties\": {\n        \"dtype\": \"date\",\n        \"min\": \"2023-02-04 00:00:00\",\n        \"max\": \"2024-08-17 00:00:00\",\n        \"num_unique_values\": 259,\n        \"samples\": [\n          \"2024-04-04 00:00:00\",\n          \"2024-04-27 00:00:00\",\n          \"2024-08-06 00:00:00\"\n        ],\n        \"semantic_type\": \"\",\n        \"description\": \"\"\n      }\n    },\n    {\n      \"column\": \"city\",\n      \"properties\": {\n        \"dtype\": \"category\",\n        \"num_unique_values\": 412,\n        \"samples\": [\n          \"Dewees Island\",\n          \"Pacolet\",\n          \"West Cola\"\n        ],\n        \"semantic_type\": \"\",\n        \"description\": \"\"\n      }\n    },\n    {\n      \"column\": \"state\",\n      \"properties\": {\n        \"dtype\": \"category\",\n        \"num_unique_values\": 15,\n        \"samples\": [\n          \"Texas\",\n          \"Massachusetts\",\n          \"South Carolina\"\n        ],\n        \"semantic_type\": \"\",\n        \"description\": \"\"\n      }\n    },\n    {\n      \"column\": \"zip_code\",\n      \"properties\": {\n        \"dtype\": \"category\",\n        \"num_unique_values\": 557,\n        \"samples\": [\n          \"29053\",\n          \"29730-7219\",\n          \"29458\"\n        ],\n        \"semantic_type\": \"\",\n        \"description\": \"\"\n      }\n    },\n    {\n      \"column\": \"dob\",\n      \"properties\": {\n        \"dtype\": \"object\",\n        \"num_unique_values\": 1847,\n        \"samples\": [\n          \"February 27, 1983\",\n          \"May 17, 2005\",\n          \"April 07, 2006\"\n        ],\n        \"semantic_type\": \"\",\n        \"description\": \"\"\n      }\n    },\n    {\n      \"column\": \"gender\",\n      \"properties\": {\n        \"dtype\": \"category\",\n        \"num_unique_values\": 2,\n        \"samples\": [\n          \"Female\",\n          \"Male\"\n        ],\n        \"semantic_type\": \"\",\n        \"description\": \"\"\n      }\n    },\n    {\n      \"column\": \"id\",\n      \"properties\": {\n        \"dtype\": \"number\",\n        \"std\": 4879,\n        \"min\": 1,\n        \"max\": 16900,\n        \"num_unique_values\": 16554,\n        \"samples\": [\n          3237,\n          4348\n        ],\n        \"semantic_type\": \"\",\n        \"description\": \"\"\n      }\n    }\n  ]\n}"
            }
          },
          "metadata": {},
          "execution_count": 28
        }
      ]
    },
    {
      "cell_type": "code",
      "source": [
        "# % of males and females taking the class\n",
        "gender_percent = df['gender'].value_counts(normalize=True) * 100\n",
        "print(gender_percent)"
      ],
      "metadata": {
        "colab": {
          "base_uri": "https://localhost:8080/"
        },
        "id": "YRwyUoB7zIOI",
        "outputId": "11b353c2-129d-4dc1-9aed-a3ce91420cd9"
      },
      "execution_count": null,
      "outputs": [
        {
          "output_type": "stream",
          "name": "stdout",
          "text": [
            "gender\n",
            "Male      50.839676\n",
            "Female    49.160324\n",
            "Name: proportion, dtype: float64\n"
          ]
        }
      ]
    },
    {
      "cell_type": "code",
      "source": [
        "# get the month from the class date\n",
        "df['month'] = df['class_date'].dt.month"
      ],
      "metadata": {
        "id": "7Qi0V7bpzVIX"
      },
      "execution_count": null,
      "outputs": []
    },
    {
      "cell_type": "code",
      "source": [
        "# gender percent of each month\n",
        "gender_percent_month = df.groupby('month')['gender'].value_counts(normalize=True) * 100\n",
        "print(gender_percent_month)"
      ],
      "metadata": {
        "colab": {
          "base_uri": "https://localhost:8080/"
        },
        "id": "DS9J6ifzzVJK",
        "outputId": "219bd491-3d7b-4fe6-9f84-46d2ca995f3f"
      },
      "execution_count": null,
      "outputs": [
        {
          "output_type": "stream",
          "name": "stdout",
          "text": [
            "month  gender\n",
            "1      Female    50.390625\n",
            "       Male      49.609375\n",
            "2      Male      52.100840\n",
            "       Female    47.899160\n",
            "3      Male      51.108871\n",
            "       Female    48.891129\n",
            "4      Male      51.872872\n",
            "       Female    48.127128\n",
            "5      Male      50.000000\n",
            "       Female    50.000000\n",
            "6      Female    52.251023\n",
            "       Male      47.748977\n",
            "7      Female    50.979880\n",
            "       Male      49.020120\n",
            "8      Male      52.217916\n",
            "       Female    47.782084\n",
            "9      Male      51.355014\n",
            "       Female    48.644986\n",
            "10     Male      57.200000\n",
            "       Female    42.800000\n",
            "11     Female    51.048951\n",
            "       Male      48.951049\n",
            "12     Male      54.265403\n",
            "       Female    45.734597\n",
            "Name: proportion, dtype: float64\n"
          ]
        }
      ]
    },
    {
      "cell_type": "markdown",
      "source": [
        "b. Exploratory Data Analysis - Demographics:\n",
        "1. As shown, the percent of males is slightly higher than the percent of females taking the class at 50.86% vs 49.14%. Yes, the percentage does vary month by month as the male percentage in october is 57% vs 47% in June."
      ],
      "metadata": {
        "id": "S47KwP6Mz0AX"
      }
    },
    {
      "cell_type": "code",
      "source": [
        "from datetime import date\n",
        "\n",
        "def calc_age (born, today_date):\n",
        "    return today_date.year - born.year - ((today_date.month, today_date.day) < (born.month, born.day)) # today date - born date\n",
        "\n",
        "today = date(2024, 5, 8)\n",
        "df['age'] = df['dob'].apply(lambda x: calc_age(pd.to_datetime(x), today))"
      ],
      "metadata": {
        "id": "uTQbZkLX0hDG"
      },
      "execution_count": null,
      "outputs": []
    },
    {
      "cell_type": "code",
      "source": [
        "print(f\"Overall average age: {df['age'].mean()}\")\n",
        "average_age_by_gender = df.groupby('gender')['age'].mean()\n",
        "print(average_age_by_gender)"
      ],
      "metadata": {
        "colab": {
          "base_uri": "https://localhost:8080/"
        },
        "id": "jxlvfw382xlP",
        "outputId": "bf84a82d-ce09-4420-ec1d-865da9910495"
      },
      "execution_count": null,
      "outputs": [
        {
          "output_type": "stream",
          "name": "stdout",
          "text": [
            "Overall average age: 16.151745801618944\n",
            "gender\n",
            "Female    16.137626\n",
            "Male      16.165399\n",
            "Name: age, dtype: float64\n"
          ]
        }
      ]
    },
    {
      "cell_type": "markdown",
      "source": [
        "The average age of the students taking the driving class is 16.1517, with males being slightly older than females at 16.165 (males) and 16.1376 (female). Some assumptions made for the analysis would be that we assume that todays date is September 16th, 2024. Another assumption made would be that the class date is the starting date of the student taking the driving class."
      ],
      "metadata": {
        "id": "Htu9DjRd3mxf"
      }
    },
    {
      "cell_type": "code",
      "source": [
        "# percentage of students taking class by cities\n",
        "city_percent = df['city'].value_counts(normalize=True) * 100\n",
        "print(city_percent)"
      ],
      "metadata": {
        "colab": {
          "base_uri": "https://localhost:8080/"
        },
        "id": "FcQouUp74zj_",
        "outputId": "52ce6c3c-6bcf-460d-b18b-ea864579e171"
      },
      "execution_count": null,
      "outputs": [
        {
          "output_type": "stream",
          "name": "stdout",
          "text": [
            "city\n",
            "Lexington         10.064033\n",
            "Columbia           9.266643\n",
            "Fort Mill          8.547783\n",
            "Mount Pleasant     5.768998\n",
            "Rock Hill          4.784342\n",
            "                    ...    \n",
            "Blythewood,Sc      0.006041\n",
            "Rock Hill Sc       0.006041\n",
            "West Colimbia      0.006041\n",
            "Milton             0.006041\n",
            "Villa Rica         0.006041\n",
            "Name: proportion, Length: 412, dtype: float64\n"
          ]
        }
      ]
    }
  ]
}